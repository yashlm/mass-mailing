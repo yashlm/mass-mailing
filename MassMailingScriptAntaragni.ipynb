{
  "nbformat": 4,
  "nbformat_minor": 0,
  "metadata": {
    "colab": {
      "provenance": []
    },
    "kernelspec": {
      "name": "python3",
      "display_name": "Python 3"
    },
    "language_info": {
      "name": "python"
    }
  },
  "cells": [
    {
      "cell_type": "code",
      "source": [
        "import pandas as pd\n",
        "import smtplib\n",
        "from email.mime.multipart import MIMEMultipart\n",
        "from email.mime.text import MIMEText\n",
        "from email.mime.image import MIMEImage\n",
        "from PIL import Image, ImageDraw, ImageFont\n",
        "\n",
        "def send_email(to_email, subject, body, name, event):\n",
        "    from_email = 'sgc.yash.20july.12sci@gmail.com'\n",
        "    password = ''\n",
        "\n",
        "    server = smtplib.SMTP('smtp.gmail.com', 587)\n",
        "    server.starttls()\n",
        "    server.login(from_email, password)\n",
        "\n",
        "    message = MIMEMultipart()\n",
        "    message['From'] = from_email\n",
        "    message['To'] = to_email\n",
        "    message['Subject'] = subject\n",
        "\n",
        "    message.attach(MIMEText(body, 'plain'))\n",
        "\n",
        "    certificate_path = 'certificate.png'\n",
        "    certificate = Image.open(certificate_path)\n",
        "\n",
        "    font_path = 'arial.ttf'\n",
        "    font_size = 40\n",
        "    font = ImageFont.truetype(font_path, font_size)\n",
        "\n",
        "    draw = ImageDraw.Draw(certificate)\n",
        "\n",
        "    name_position = (750, 300)\n",
        "    event_position = (350, 465)\n",
        "\n",
        "    golden_color = (255, 215, 0)\n",
        "    draw.text(name_position, name, fill=golden_color, font=font)\n",
        "    draw.text(event_position, event, fill=golden_color, font=font)\n",
        "\n",
        "    certificate_with_text_path = f'certificate_{name}_{event}.png'\n",
        "    certificate.save(certificate_with_text_path)\n",
        "\n",
        "    with open(certificate_with_text_path, 'rb') as f:\n",
        "        img = MIMEImage(f.read())\n",
        "    img.add_header('Content-Disposition', 'attachment', filename='certificate.png')\n",
        "    message.attach(img)\n",
        "\n",
        "    server.sendmail(from_email, to_email, message.as_string())\n",
        "    server.quit()\n",
        "\n",
        "data = pd.read_excel('data.xlsx')\n",
        "\n",
        "for index, row in data.iterrows():\n",
        "    to_email = row['Email']\n",
        "    subject = f\"Congratulations on your participation in the {row['Event']}\"\n",
        "    body = f\"Dear {row['Name']},\\n\\nHeartiest Congratulations on your participation in the {row['Event']} event. Team Antaragni’23 was delighted to have you with us for the 57th edition of our annual cultural festival. We hope to see you participate with even more enthusiasm in the years to come.\\n\\nAttached herewith is a token of appreciation for your commendable performance and contribution in promoting culture.\\n\\nHoping to see you and your college in the future ANTARAGNI as well\\n\\nIn case of any issue feel free to contact,\\nRikin Chirag Shah           \t9833869012\\nAryavardhan Singh Rathour\t8787080010\\nRavi Kant\t                         9350580186\\nVaibhav Sahu\t                         6394355257\\nPrakhar Mishra  \t            6387857715\\n\\nRegards,\\nTeam Hospitality,\\nAntaragni'23, IIT Kanpur.\"\n",
        "    name = row['Name']\n",
        "    event = row['Event']\n",
        "\n",
        "    send_email(to_email, subject, body, name, event)\n",
        "\n",
        "print(\"Emails sent successfully.\")\n"
      ],
      "metadata": {
        "colab": {
          "base_uri": "https://localhost:8080/"
        },
        "id": "NqnzLUdjeyNu",
        "outputId": "d4353f4a-aea0-47fe-9bd7-03a393e10fb4"
      },
      "execution_count": 5,
      "outputs": [
        {
          "output_type": "stream",
          "name": "stdout",
          "text": [
            "Emails sent successfully.\n"
          ]
        }
      ]
    }
  ]
}